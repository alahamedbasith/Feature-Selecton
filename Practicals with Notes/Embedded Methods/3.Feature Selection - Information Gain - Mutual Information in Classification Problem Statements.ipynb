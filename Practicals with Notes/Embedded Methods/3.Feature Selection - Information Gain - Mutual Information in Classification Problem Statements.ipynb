{
 "cells": [
  {
   "cell_type": "markdown",
   "id": "eaa15280",
   "metadata": {},
   "source": [
    "### Feature Selection - Information Gain - Mutual Information in Classification Problem Statements"
   ]
  },
  {
   "cell_type": "markdown",
   "id": "81f7cc1b",
   "metadata": {},
   "source": [
    "##### Mutual Information\n",
    "\n",
    "MI Estimate mutual information for a discrete target variable\n",
    "\n",
    "   Mutual Information(MI) between two random variables is a non-negative value,which measures the dependency between the variables.\n",
    "    It is equal to zero if and only if two random variables independent, and higher values means higher dependency.\n",
    "    \n",
    "   The function relies on nonparametric methods based on entropy estimation from k-nearest neighbours distances.\n",
    "   \n",
    "   In Short,\n",
    "   \n",
    "   A quantity called mutual information measures the amount of information one can obtained from one random variable given another.\n",
    "   \n",
    "   The Mutual Information between two random variables X and Y can be stated formally as follows:\n",
    "   \n",
    "###### |(X;Y) = H(X) - H(X|Y) Where |(X;Y) is the mutual information for X and Y, H(X) is the entropy for X and H(X|Y) is the conditional entropy for X given Y.The result has the units of bits.It means range(0 to 1)\n",
    "   "
   ]
  },
  {
   "cell_type": "markdown",
   "id": "438d73fb",
   "metadata": {},
   "source": [
    "#### Requirements:\n",
    "\n",
    "- Know about Entropy\n",
    "- Know about Information Gain\n",
    "- Know about Gini Impurity\n",
    "- Know about Statistical test\n",
    "\n",
    "These concepts are available in ML and Inferential Statistics"
   ]
  },
  {
   "cell_type": "code",
   "execution_count": 1,
   "id": "e888bb82",
   "metadata": {},
   "outputs": [
    {
     "data": {
      "text/html": [
       "<div>\n",
       "<style scoped>\n",
       "    .dataframe tbody tr th:only-of-type {\n",
       "        vertical-align: middle;\n",
       "    }\n",
       "\n",
       "    .dataframe tbody tr th {\n",
       "        vertical-align: top;\n",
       "    }\n",
       "\n",
       "    .dataframe thead th {\n",
       "        text-align: right;\n",
       "    }\n",
       "</style>\n",
       "<table border=\"1\" class=\"dataframe\">\n",
       "  <thead>\n",
       "    <tr style=\"text-align: right;\">\n",
       "      <th></th>\n",
       "      <th>Wine</th>\n",
       "      <th>Alcohol</th>\n",
       "      <th>Malic.acid</th>\n",
       "      <th>Ash</th>\n",
       "      <th>Acl</th>\n",
       "      <th>Mg</th>\n",
       "      <th>Phenols</th>\n",
       "      <th>Flavanoids</th>\n",
       "      <th>Nonflavanoid.phenols</th>\n",
       "      <th>Proanth</th>\n",
       "      <th>Color.int</th>\n",
       "      <th>Hue</th>\n",
       "      <th>OD</th>\n",
       "      <th>Proline</th>\n",
       "    </tr>\n",
       "  </thead>\n",
       "  <tbody>\n",
       "    <tr>\n",
       "      <th>0</th>\n",
       "      <td>1</td>\n",
       "      <td>14.23</td>\n",
       "      <td>1.71</td>\n",
       "      <td>2.43</td>\n",
       "      <td>15.6</td>\n",
       "      <td>127</td>\n",
       "      <td>2.80</td>\n",
       "      <td>3.06</td>\n",
       "      <td>0.28</td>\n",
       "      <td>2.29</td>\n",
       "      <td>5.64</td>\n",
       "      <td>1.04</td>\n",
       "      <td>3.92</td>\n",
       "      <td>1065</td>\n",
       "    </tr>\n",
       "    <tr>\n",
       "      <th>1</th>\n",
       "      <td>1</td>\n",
       "      <td>13.20</td>\n",
       "      <td>1.78</td>\n",
       "      <td>2.14</td>\n",
       "      <td>11.2</td>\n",
       "      <td>100</td>\n",
       "      <td>2.65</td>\n",
       "      <td>2.76</td>\n",
       "      <td>0.26</td>\n",
       "      <td>1.28</td>\n",
       "      <td>4.38</td>\n",
       "      <td>1.05</td>\n",
       "      <td>3.40</td>\n",
       "      <td>1050</td>\n",
       "    </tr>\n",
       "    <tr>\n",
       "      <th>2</th>\n",
       "      <td>1</td>\n",
       "      <td>13.16</td>\n",
       "      <td>2.36</td>\n",
       "      <td>2.67</td>\n",
       "      <td>18.6</td>\n",
       "      <td>101</td>\n",
       "      <td>2.80</td>\n",
       "      <td>3.24</td>\n",
       "      <td>0.30</td>\n",
       "      <td>2.81</td>\n",
       "      <td>5.68</td>\n",
       "      <td>1.03</td>\n",
       "      <td>3.17</td>\n",
       "      <td>1185</td>\n",
       "    </tr>\n",
       "    <tr>\n",
       "      <th>3</th>\n",
       "      <td>1</td>\n",
       "      <td>14.37</td>\n",
       "      <td>1.95</td>\n",
       "      <td>2.50</td>\n",
       "      <td>16.8</td>\n",
       "      <td>113</td>\n",
       "      <td>3.85</td>\n",
       "      <td>3.49</td>\n",
       "      <td>0.24</td>\n",
       "      <td>2.18</td>\n",
       "      <td>7.80</td>\n",
       "      <td>0.86</td>\n",
       "      <td>3.45</td>\n",
       "      <td>1480</td>\n",
       "    </tr>\n",
       "    <tr>\n",
       "      <th>4</th>\n",
       "      <td>1</td>\n",
       "      <td>13.24</td>\n",
       "      <td>2.59</td>\n",
       "      <td>2.87</td>\n",
       "      <td>21.0</td>\n",
       "      <td>118</td>\n",
       "      <td>2.80</td>\n",
       "      <td>2.69</td>\n",
       "      <td>0.39</td>\n",
       "      <td>1.82</td>\n",
       "      <td>4.32</td>\n",
       "      <td>1.04</td>\n",
       "      <td>2.93</td>\n",
       "      <td>735</td>\n",
       "    </tr>\n",
       "  </tbody>\n",
       "</table>\n",
       "</div>"
      ],
      "text/plain": [
       "   Wine  Alcohol  Malic.acid   Ash   Acl   Mg  Phenols  Flavanoids  \\\n",
       "0     1    14.23        1.71  2.43  15.6  127     2.80        3.06   \n",
       "1     1    13.20        1.78  2.14  11.2  100     2.65        2.76   \n",
       "2     1    13.16        2.36  2.67  18.6  101     2.80        3.24   \n",
       "3     1    14.37        1.95  2.50  16.8  113     3.85        3.49   \n",
       "4     1    13.24        2.59  2.87  21.0  118     2.80        2.69   \n",
       "\n",
       "   Nonflavanoid.phenols  Proanth  Color.int   Hue    OD  Proline  \n",
       "0                  0.28     2.29       5.64  1.04  3.92     1065  \n",
       "1                  0.26     1.28       4.38  1.05  3.40     1050  \n",
       "2                  0.30     2.81       5.68  1.03  3.17     1185  \n",
       "3                  0.24     2.18       7.80  0.86  3.45     1480  \n",
       "4                  0.39     1.82       4.32  1.04  2.93      735  "
      ]
     },
     "execution_count": 1,
     "metadata": {},
     "output_type": "execute_result"
    }
   ],
   "source": [
    "# See the usage of Information Gain - Mutual Information in Classification Problem Statements\n",
    "\n",
    "import pandas as pd\n",
    "\n",
    "df = pd.read_csv('https://gist.githubusercontent.com/tijptjik/9408623/raw/b237fa5848349a14a14e5d4107dc7897c21951f5/wine.csv')\n",
    "df.head()"
   ]
  },
  {
   "cell_type": "code",
   "execution_count": 17,
   "id": "93605ff0",
   "metadata": {},
   "outputs": [
    {
     "data": {
      "text/plain": [
       "array([1, 2, 3], dtype=int64)"
      ]
     },
     "execution_count": 17,
     "metadata": {},
     "output_type": "execute_result"
    }
   ],
   "source": [
    "# Assume the feature Wine is the dependent variable\n",
    "# So check the category of wine\n",
    "\n",
    "df['Wine'].unique()"
   ]
  },
  {
   "cell_type": "code",
   "execution_count": 18,
   "id": "99894a10",
   "metadata": {},
   "outputs": [
    {
     "name": "stdout",
     "output_type": "stream",
     "text": [
      "<class 'pandas.core.frame.DataFrame'>\n",
      "RangeIndex: 178 entries, 0 to 177\n",
      "Data columns (total 14 columns):\n",
      " #   Column                Non-Null Count  Dtype  \n",
      "---  ------                --------------  -----  \n",
      " 0   Wine                  178 non-null    int64  \n",
      " 1   Alcohol               178 non-null    float64\n",
      " 2   Malic.acid            178 non-null    float64\n",
      " 3   Ash                   178 non-null    float64\n",
      " 4   Acl                   178 non-null    float64\n",
      " 5   Mg                    178 non-null    int64  \n",
      " 6   Phenols               178 non-null    float64\n",
      " 7   Flavanoids            178 non-null    float64\n",
      " 8   Nonflavanoid.phenols  178 non-null    float64\n",
      " 9   Proanth               178 non-null    float64\n",
      " 10  Color.int             178 non-null    float64\n",
      " 11  Hue                   178 non-null    float64\n",
      " 12  OD                    178 non-null    float64\n",
      " 13  Proline               178 non-null    int64  \n",
      "dtypes: float64(11), int64(3)\n",
      "memory usage: 19.6 KB\n"
     ]
    }
   ],
   "source": [
    "df.info() # There is no null values are present"
   ]
  },
  {
   "cell_type": "code",
   "execution_count": 19,
   "id": "aeb83144",
   "metadata": {},
   "outputs": [],
   "source": [
    "# Independent and dependent variable\n",
    "X = df.drop('Wine',axis = 1)\n",
    "y = df['Wine']\n",
    "\n",
    "# Perform train_test_split to avoid overfitting\n",
    "\n",
    "from sklearn.model_selection import train_test_split\n",
    "X_train,X_test,y_train,y_test = train_test_split(X,y,test_size=0.3,random_state=43)"
   ]
  },
  {
   "cell_type": "code",
   "execution_count": 20,
   "id": "9638dee3",
   "metadata": {},
   "outputs": [
    {
     "data": {
      "text/html": [
       "<div>\n",
       "<style scoped>\n",
       "    .dataframe tbody tr th:only-of-type {\n",
       "        vertical-align: middle;\n",
       "    }\n",
       "\n",
       "    .dataframe tbody tr th {\n",
       "        vertical-align: top;\n",
       "    }\n",
       "\n",
       "    .dataframe thead th {\n",
       "        text-align: right;\n",
       "    }\n",
       "</style>\n",
       "<table border=\"1\" class=\"dataframe\">\n",
       "  <thead>\n",
       "    <tr style=\"text-align: right;\">\n",
       "      <th></th>\n",
       "      <th>Alcohol</th>\n",
       "      <th>Malic.acid</th>\n",
       "      <th>Ash</th>\n",
       "      <th>Acl</th>\n",
       "      <th>Mg</th>\n",
       "      <th>Phenols</th>\n",
       "      <th>Flavanoids</th>\n",
       "      <th>Nonflavanoid.phenols</th>\n",
       "      <th>Proanth</th>\n",
       "      <th>Color.int</th>\n",
       "      <th>Hue</th>\n",
       "      <th>OD</th>\n",
       "      <th>Proline</th>\n",
       "    </tr>\n",
       "  </thead>\n",
       "  <tbody>\n",
       "    <tr>\n",
       "      <th>97</th>\n",
       "      <td>12.29</td>\n",
       "      <td>1.41</td>\n",
       "      <td>1.98</td>\n",
       "      <td>16.0</td>\n",
       "      <td>85</td>\n",
       "      <td>2.55</td>\n",
       "      <td>2.50</td>\n",
       "      <td>0.29</td>\n",
       "      <td>1.77</td>\n",
       "      <td>2.90</td>\n",
       "      <td>1.23</td>\n",
       "      <td>2.74</td>\n",
       "      <td>428</td>\n",
       "    </tr>\n",
       "    <tr>\n",
       "      <th>53</th>\n",
       "      <td>13.77</td>\n",
       "      <td>1.90</td>\n",
       "      <td>2.68</td>\n",
       "      <td>17.1</td>\n",
       "      <td>115</td>\n",
       "      <td>3.00</td>\n",
       "      <td>2.79</td>\n",
       "      <td>0.39</td>\n",
       "      <td>1.68</td>\n",
       "      <td>6.30</td>\n",
       "      <td>1.13</td>\n",
       "      <td>2.93</td>\n",
       "      <td>1375</td>\n",
       "    </tr>\n",
       "    <tr>\n",
       "      <th>20</th>\n",
       "      <td>14.06</td>\n",
       "      <td>1.63</td>\n",
       "      <td>2.28</td>\n",
       "      <td>16.0</td>\n",
       "      <td>126</td>\n",
       "      <td>3.00</td>\n",
       "      <td>3.17</td>\n",
       "      <td>0.24</td>\n",
       "      <td>2.10</td>\n",
       "      <td>5.65</td>\n",
       "      <td>1.09</td>\n",
       "      <td>3.71</td>\n",
       "      <td>780</td>\n",
       "    </tr>\n",
       "    <tr>\n",
       "      <th>30</th>\n",
       "      <td>13.73</td>\n",
       "      <td>1.50</td>\n",
       "      <td>2.70</td>\n",
       "      <td>22.5</td>\n",
       "      <td>101</td>\n",
       "      <td>3.00</td>\n",
       "      <td>3.25</td>\n",
       "      <td>0.29</td>\n",
       "      <td>2.38</td>\n",
       "      <td>5.70</td>\n",
       "      <td>1.19</td>\n",
       "      <td>2.71</td>\n",
       "      <td>1285</td>\n",
       "    </tr>\n",
       "    <tr>\n",
       "      <th>160</th>\n",
       "      <td>12.36</td>\n",
       "      <td>3.83</td>\n",
       "      <td>2.38</td>\n",
       "      <td>21.0</td>\n",
       "      <td>88</td>\n",
       "      <td>2.30</td>\n",
       "      <td>0.92</td>\n",
       "      <td>0.50</td>\n",
       "      <td>1.04</td>\n",
       "      <td>7.65</td>\n",
       "      <td>0.56</td>\n",
       "      <td>1.58</td>\n",
       "      <td>520</td>\n",
       "    </tr>\n",
       "  </tbody>\n",
       "</table>\n",
       "</div>"
      ],
      "text/plain": [
       "     Alcohol  Malic.acid   Ash   Acl   Mg  Phenols  Flavanoids  \\\n",
       "97     12.29        1.41  1.98  16.0   85     2.55        2.50   \n",
       "53     13.77        1.90  2.68  17.1  115     3.00        2.79   \n",
       "20     14.06        1.63  2.28  16.0  126     3.00        3.17   \n",
       "30     13.73        1.50  2.70  22.5  101     3.00        3.25   \n",
       "160    12.36        3.83  2.38  21.0   88     2.30        0.92   \n",
       "\n",
       "     Nonflavanoid.phenols  Proanth  Color.int   Hue    OD  Proline  \n",
       "97                   0.29     1.77       2.90  1.23  2.74      428  \n",
       "53                   0.39     1.68       6.30  1.13  2.93     1375  \n",
       "20                   0.24     2.10       5.65  1.09  3.71      780  \n",
       "30                   0.29     2.38       5.70  1.19  2.71     1285  \n",
       "160                  0.50     1.04       7.65  0.56  1.58      520  "
      ]
     },
     "execution_count": 20,
     "metadata": {},
     "output_type": "execute_result"
    }
   ],
   "source": [
    "X_train.head()"
   ]
  },
  {
   "cell_type": "code",
   "execution_count": 21,
   "id": "af74f7e6",
   "metadata": {},
   "outputs": [
    {
     "data": {
      "text/plain": [
       "97     2\n",
       "53     1\n",
       "20     1\n",
       "30     1\n",
       "160    3\n",
       "Name: Wine, dtype: int64"
      ]
     },
     "execution_count": 21,
     "metadata": {},
     "output_type": "execute_result"
    }
   ],
   "source": [
    "y_train.head()"
   ]
  },
  {
   "cell_type": "code",
   "execution_count": 22,
   "id": "f30fce44",
   "metadata": {},
   "outputs": [
    {
     "data": {
      "text/plain": [
       "array([0.51173111, 0.28801434, 0.09668042, 0.22612399, 0.16288791,\n",
       "       0.38052686, 0.67808665, 0.10050482, 0.28040725, 0.52124749,\n",
       "       0.470189  , 0.44252383, 0.47967635])"
      ]
     },
     "execution_count": 22,
     "metadata": {},
     "output_type": "execute_result"
    }
   ],
   "source": [
    "# Then perform the Mutual Information\n",
    "# Remember if the features are highly related to the dependent feature that feature we have to select\n",
    "# So passing the dependent and Independent features in mutual_info_classif\n",
    "\n",
    "from sklearn.feature_selection import mutual_info_classif\n",
    "\n",
    "# Perform mutual classifier\n",
    "mutual_info = mutual_info_classif(X_train,y_train)\n",
    "mutual_info"
   ]
  },
  {
   "cell_type": "markdown",
   "id": "b040c221",
   "metadata": {},
   "source": [
    "The above are the each feature mutual information respect to dependent variable"
   ]
  },
  {
   "cell_type": "code",
   "execution_count": 23,
   "id": "c5fcbbe3",
   "metadata": {},
   "outputs": [
    {
     "data": {
      "text/plain": [
       "Alcohol                 0.511731\n",
       "Malic.acid              0.288014\n",
       "Ash                     0.096680\n",
       "Acl                     0.226124\n",
       "Mg                      0.162888\n",
       "Phenols                 0.380527\n",
       "Flavanoids              0.678087\n",
       "Nonflavanoid.phenols    0.100505\n",
       "Proanth                 0.280407\n",
       "Color.int               0.521247\n",
       "Hue                     0.470189\n",
       "OD                      0.442524\n",
       "Proline                 0.479676\n",
       "dtype: float64"
      ]
     },
     "execution_count": 23,
     "metadata": {},
     "output_type": "execute_result"
    }
   ],
   "source": [
    "mutual_info = pd.Series(mutual_info)\n",
    "mutual_info.index = X_train.columns\n",
    "mutual_info"
   ]
  },
  {
   "cell_type": "code",
   "execution_count": 26,
   "id": "a928e346",
   "metadata": {},
   "outputs": [
    {
     "data": {
      "text/plain": [
       "Flavanoids              0.678087\n",
       "Color.int               0.521247\n",
       "Alcohol                 0.511731\n",
       "Proline                 0.479676\n",
       "Hue                     0.470189\n",
       "OD                      0.442524\n",
       "Phenols                 0.380527\n",
       "Malic.acid              0.288014\n",
       "Proanth                 0.280407\n",
       "Acl                     0.226124\n",
       "Mg                      0.162888\n",
       "Nonflavanoid.phenols    0.100505\n",
       "Ash                     0.096680\n",
       "dtype: float64"
      ]
     },
     "execution_count": 26,
     "metadata": {},
     "output_type": "execute_result"
    }
   ],
   "source": [
    "# Lets arrange it \n",
    "\n",
    "mutual_info.sort_values(ascending = False)  # To get big value correlated to small"
   ]
  },
  {
   "cell_type": "code",
   "execution_count": 36,
   "id": "36192a36",
   "metadata": {},
   "outputs": [
    {
     "data": {
      "text/plain": [
       "<Axes: >"
      ]
     },
     "execution_count": 36,
     "metadata": {},
     "output_type": "execute_result"
    },
    {
     "data": {
      "image/png": "[encoded data removed]",
      "text/plain": [
       "<Figure size 2000x800 with 1 Axes>"
      ]
     },
     "metadata": {},
     "output_type": "display_data"
    }
   ],
   "source": [
    "# Lets Visualize mutual_info\n",
    "\n",
    "mutual_info.sort_values(ascending = False).plot.bar(figsize=(20,8))  # We are using pandas basic plot bar"
   ]
  },
  {
   "cell_type": "markdown",
   "id": "4dd5a88c",
   "metadata": {},
   "source": [
    "Now We are select the top 5 high mutual information features,The top features selections are vary based on the dataset size."
   ]
  },
  {
   "cell_type": "code",
   "execution_count": 38,
   "id": "93b7ebd7",
   "metadata": {},
   "outputs": [
    {
     "data": {
      "text/plain": [
       "Index(['Alcohol', 'Flavanoids', 'Color.int', 'Hue', 'Proline'], dtype='object')"
      ]
     },
     "execution_count": 38,
     "metadata": {},
     "output_type": "execute_result"
    }
   ],
   "source": [
    "# Sklearn inbuilds have one library for selection\n",
    "# In this dataset we have to select top 5 features\n",
    "\n",
    "from sklearn.feature_selection import SelectKBest\n",
    "sel_five_cols = SelectKBest(mutual_info_classif,k=5)\n",
    "sel_five_cols.fit(X_train,y_train)\n",
    "X_train.columns[sel_five_cols.get_support()] # get_support() is used to get column index name"
   ]
  },
  {
   "cell_type": "markdown",
   "id": "7eb86af8",
   "metadata": {},
   "source": [
    "So select these top 5 feature and drop remaining the feature"
   ]
  },
  {
   "cell_type": "markdown",
   "id": "4f494f7c",
   "metadata": {},
   "source": [
    "### Difference Between Information Gain and Mutual Information\n",
    "\n",
    "|(X;y) = H(X) - H(X|Y) This is the formula for Mutual Information\n",
    "\n",
    "IG(S,a) = H(S) - H(S|a) This is the formula for Information Gain\n",
    "\n",
    "As such,mutual information is sometimes used as a synonym for information gain.Technically,they calculate the same quantity if applied to the same data.\n",
    "\n",
    "##### Simply,\n",
    "\n",
    "Mutual Information is used in Classification Problem Statements.\n",
    "\n",
    "Information Gain is used in Decision tree and random forest to select the feature of the node."
   ]
  },
  {
   "cell_type": "markdown",
   "id": "cee5be81",
   "metadata": {},
   "source": [
    "### Comparison of Univariate and Mutual Information\n",
    "\n",
    "See the comparison of F-test and mutual information,\n",
    "https://scikit-learn.org/stable/auto_examples/feature_selection/plot_f_test_vs_mi.html\n"
   ]
  },
  {
   "cell_type": "code",
   "execution_count": null,
   "id": "8e1eb180",
   "metadata": {},
   "outputs": [],
   "source": []
  }
 ],
 "metadata": {
  "kernelspec": {
   "display_name": "Python 3 (ipykernel)",
   "language": "python",
   "name": "python3"
  },
  "language_info": {
   "codemirror_mode": {
    "name": "ipython",
    "version": 3
   },
   "file_extension": ".py",
   "mimetype": "text/x-python",
   "name": "python",
   "nbconvert_exporter": "python",
   "pygments_lexer": "ipython3",
   "version": "3.11.5"
  }
 },
 "nbformat": 4,
 "nbformat_minor": 5
}
