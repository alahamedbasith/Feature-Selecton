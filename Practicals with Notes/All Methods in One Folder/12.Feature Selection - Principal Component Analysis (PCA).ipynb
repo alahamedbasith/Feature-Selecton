{
 "cells": [
  {
   "cell_type": "markdown",
   "id": "63e76f7f",
   "metadata": {},
   "source": [
    "## Principal Component Analysis (PCA)\n",
    "\n",
    "It is mainly used for dimensionality reduction.\n",
    "\n",
    "N D -- N-1 D\n",
    "\n",
    "3D - 2D\n",
    "\n",
    "like that"
   ]
  },
  {
   "cell_type": "markdown",
   "id": "98f07fa8",
   "metadata": {},
   "source": [
    "let's explain Principal Component Analysis (PCA) mathematically. PCA involves linear algebra, so we'll go through the key mathematical steps:\n",
    "\n",
    "**Step 1: Standardize the Data**\n",
    "\n",
    "Let's assume we have a dataset with `m` data points and `n` features, which can be represented as an `m x n` matrix, often denoted as X.\n",
    "\n",
    "Standardizing the data means subtracting the mean (μ) from each feature and dividing by the standard deviation (σ) to make all the features have a mean of 0 and a standard deviation of 1. This can be represented as:\n",
    "\n",
    "```\n",
    "X_standardized = (X - μ) / σ\n",
    "```\n",
    "\n",
    "**Step 2: Compute the Covariance Matrix**\n",
    "\n",
    "The covariance matrix represents how each feature varies with every other feature. It is an `n x n` matrix and is calculated as follows:\n",
    "\n",
    "```\n",
    "C = (1/m) * (X_standardized^T * X_standardized)\n",
    "```\n",
    "\n",
    "Where `^T` denotes the transpose of the matrix. This covariance matrix C represents the relationships between the features in the standardized dataset.\n",
    "\n",
    "**Step 3: Calculate Eigenvectors and Eigenvalues**\n",
    "\n",
    "The next step is to find the eigenvectors and eigenvalues of the covariance matrix C. The eigenvectors represent the directions in which the data varies the most, and the eigenvalues represent the amount of variance explained by each eigenvector.\n",
    "\n",
    "The eigenvectors (V) and eigenvalues (λ) can be obtained by solving the following equation:\n",
    "\n",
    "```\n",
    "C * V = λ * V\n",
    "```\n",
    "\n",
    "Where V is a matrix of eigenvectors, and λ is a vector of eigenvalues.\n",
    "\n",
    "**Step 4: Sort Eigenvectors**\n",
    "\n",
    "Sort the eigenvectors in descending order based on their corresponding eigenvalues. The eigenvector with the highest eigenvalue corresponds to the first principal component, the one with the second-highest eigenvalue corresponds to the second principal component, and so on.\n",
    "\n",
    "**Step 5: Choose the Number of Principal Components**\n",
    "\n",
    "You need to decide how many principal components to keep. This decision can be based on the cumulative explained variance. If you want to reduce the dimensionality, you might choose a lower number of components that still capture a high percentage of the variance.\n",
    "\n",
    "**Step 6: Project the Data**\n",
    "\n",
    "Finally, you project the original data onto the new coordinate system defined by the selected principal components. This is done by multiplying the standardized data by the matrix of selected eigenvectors.\n",
    "\n",
    "```\n",
    "X_pca = X_standardized * V_selected\n",
    "```\n",
    "\n",
    "Where V_selected contains the first `k` eigenvectors (where `k` is the number of principal components you choose).\n",
    "\n",
    "This projected data `X_pca` is the transformed dataset in the new feature space represented by the principal components.\n",
    "\n",
    "In summary, PCA is a mathematical technique that involves finding the covariance matrix, computing its eigenvectors and eigenvalues, selecting a subset of principal components, and projecting the data onto these components. This allows you to reduce the dimensionality of the data while retaining as much information as possible."
   ]
  },
  {
   "cell_type": "markdown",
   "id": "eb53ed7b",
   "metadata": {},
   "source": [
    "## PCA perform on Simple Data"
   ]
  },
  {
   "cell_type": "code",
   "execution_count": 33,
   "id": "de7a9b08",
   "metadata": {},
   "outputs": [
    {
     "name": "stdout",
     "output_type": "stream",
     "text": [
      "Original data shape: (100, 8)\n",
      "Reduced data shape: (100, 2)\n",
      "Explained Variance Ratios: [0.17178869 0.16017285]\n",
      "Principal Components Matrix: [[-0.00941695  0.44750337 -0.07573093 -0.61866577 -0.24387618 -0.14159141\n",
      "   0.09097716  0.56865542]\n",
      " [ 0.50062902  0.01443196 -0.60890234 -0.0935306   0.25660251  0.48798734\n",
      "   0.25623076  0.00464611]]\n"
     ]
    }
   ],
   "source": [
    "import numpy as np\n",
    "from sklearn.decomposition import PCA\n",
    "\n",
    "# Generate some sample data (replace this with your real-time data)\n",
    "data = np.random.rand(100, 8)  # 100 data points with 4 features\n",
    "\n",
    "# Step 1: Standardize or normalize the data\n",
    "mean = np.mean(data, axis=0)\n",
    "std = np.std(data, axis=0)\n",
    "normalized_data = (data - mean) / std\n",
    "\n",
    "# Step 2: Perform PCA\n",
    "n_components = 2  # You can choose the number of components you want to retain\n",
    "pca = PCA(n_components=n_components)\n",
    "principal_components_data = pca.fit_transform(normalized_data)\n",
    "\n",
    "# The `principal_components` now contains the reduced-dimensional data\n",
    "print(\"Original data shape:\", normalized_data.shape)\n",
    "print(\"Reduced data shape:\", principal_components_data.shape)\n",
    "\n",
    "# The explained variance ratio provides information about the variance retained by each principal component.\n",
    "explained_variance_ratio = pca.explained_variance_ratio_\n",
    "print(\"Explained Variance Ratios:\", explained_variance_ratio)\n",
    "\n",
    "# You can also access the principal components themselves if needed\n",
    "principal_components_matrix = pca.components_\n",
    "print(\"Principal Components Matrix:\", principal_components_matrix)\n"
   ]
  },
  {
   "cell_type": "markdown",
   "id": "841063fd",
   "metadata": {},
   "source": [
    "## PCA perform on Cancer Dataset"
   ]
  },
  {
   "cell_type": "code",
   "execution_count": 34,
   "id": "8b7099e9",
   "metadata": {},
   "outputs": [],
   "source": [
    "import matplotlib.pyplot as plt\n",
    "import seaborn as sns\n",
    "import numpy as np\n",
    "import pandas as pd\n",
    "%matplotlib inline"
   ]
  },
  {
   "cell_type": "code",
   "execution_count": 35,
   "id": "c3557eb4",
   "metadata": {},
   "outputs": [],
   "source": [
    "# Load the dataset\n",
    "\n",
    "from sklearn.datasets import load_breast_cancer\n",
    "cancer_data = load_breast_cancer()"
   ]
  },
  {
   "cell_type": "code",
   "execution_count": 36,
   "id": "fa6645b3",
   "metadata": {},
   "outputs": [
    {
     "data": {
      "text/plain": [
       "dict_keys(['data', 'target', 'frame', 'target_names', 'DESCR', 'feature_names', 'filename', 'data_module'])"
      ]
     },
     "execution_count": 36,
     "metadata": {},
     "output_type": "execute_result"
    }
   ],
   "source": [
    "cancer_data.keys()"
   ]
  },
  {
   "cell_type": "code",
   "execution_count": 37,
   "id": "24406d17",
   "metadata": {},
   "outputs": [],
   "source": [
    "# Create a DataFrame using the data and feature names\n",
    "df = pd.DataFrame(cancer_data.data, columns=cancer_data.feature_names)\n",
    "\n",
    "# Optionally, you can add the target variable (diagnosis) to the DataFrame if needed\n",
    "df['diagnosis'] = cancer_data.target\n"
   ]
  },
  {
   "cell_type": "code",
   "execution_count": 38,
   "id": "c3d011e7",
   "metadata": {},
   "outputs": [
    {
     "data": {
      "text/html": [
       "<div>\n",
       "<style scoped>\n",
       "    .dataframe tbody tr th:only-of-type {\n",
       "        vertical-align: middle;\n",
       "    }\n",
       "\n",
       "    .dataframe tbody tr th {\n",
       "        vertical-align: top;\n",
       "    }\n",
       "\n",
       "    .dataframe thead th {\n",
       "        text-align: right;\n",
       "    }\n",
       "</style>\n",
       "<table border=\"1\" class=\"dataframe\">\n",
       "  <thead>\n",
       "    <tr style=\"text-align: right;\">\n",
       "      <th></th>\n",
       "      <th>mean radius</th>\n",
       "      <th>mean texture</th>\n",
       "      <th>mean perimeter</th>\n",
       "      <th>mean area</th>\n",
       "      <th>mean smoothness</th>\n",
       "      <th>mean compactness</th>\n",
       "      <th>mean concavity</th>\n",
       "      <th>mean concave points</th>\n",
       "      <th>mean symmetry</th>\n",
       "      <th>mean fractal dimension</th>\n",
       "      <th>...</th>\n",
       "      <th>worst texture</th>\n",
       "      <th>worst perimeter</th>\n",
       "      <th>worst area</th>\n",
       "      <th>worst smoothness</th>\n",
       "      <th>worst compactness</th>\n",
       "      <th>worst concavity</th>\n",
       "      <th>worst concave points</th>\n",
       "      <th>worst symmetry</th>\n",
       "      <th>worst fractal dimension</th>\n",
       "      <th>diagnosis</th>\n",
       "    </tr>\n",
       "  </thead>\n",
       "  <tbody>\n",
       "    <tr>\n",
       "      <th>0</th>\n",
       "      <td>17.99</td>\n",
       "      <td>10.38</td>\n",
       "      <td>122.80</td>\n",
       "      <td>1001.0</td>\n",
       "      <td>0.11840</td>\n",
       "      <td>0.27760</td>\n",
       "      <td>0.3001</td>\n",
       "      <td>0.14710</td>\n",
       "      <td>0.2419</td>\n",
       "      <td>0.07871</td>\n",
       "      <td>...</td>\n",
       "      <td>17.33</td>\n",
       "      <td>184.60</td>\n",
       "      <td>2019.0</td>\n",
       "      <td>0.1622</td>\n",
       "      <td>0.6656</td>\n",
       "      <td>0.7119</td>\n",
       "      <td>0.2654</td>\n",
       "      <td>0.4601</td>\n",
       "      <td>0.11890</td>\n",
       "      <td>0</td>\n",
       "    </tr>\n",
       "    <tr>\n",
       "      <th>1</th>\n",
       "      <td>20.57</td>\n",
       "      <td>17.77</td>\n",
       "      <td>132.90</td>\n",
       "      <td>1326.0</td>\n",
       "      <td>0.08474</td>\n",
       "      <td>0.07864</td>\n",
       "      <td>0.0869</td>\n",
       "      <td>0.07017</td>\n",
       "      <td>0.1812</td>\n",
       "      <td>0.05667</td>\n",
       "      <td>...</td>\n",
       "      <td>23.41</td>\n",
       "      <td>158.80</td>\n",
       "      <td>1956.0</td>\n",
       "      <td>0.1238</td>\n",
       "      <td>0.1866</td>\n",
       "      <td>0.2416</td>\n",
       "      <td>0.1860</td>\n",
       "      <td>0.2750</td>\n",
       "      <td>0.08902</td>\n",
       "      <td>0</td>\n",
       "    </tr>\n",
       "    <tr>\n",
       "      <th>2</th>\n",
       "      <td>19.69</td>\n",
       "      <td>21.25</td>\n",
       "      <td>130.00</td>\n",
       "      <td>1203.0</td>\n",
       "      <td>0.10960</td>\n",
       "      <td>0.15990</td>\n",
       "      <td>0.1974</td>\n",
       "      <td>0.12790</td>\n",
       "      <td>0.2069</td>\n",
       "      <td>0.05999</td>\n",
       "      <td>...</td>\n",
       "      <td>25.53</td>\n",
       "      <td>152.50</td>\n",
       "      <td>1709.0</td>\n",
       "      <td>0.1444</td>\n",
       "      <td>0.4245</td>\n",
       "      <td>0.4504</td>\n",
       "      <td>0.2430</td>\n",
       "      <td>0.3613</td>\n",
       "      <td>0.08758</td>\n",
       "      <td>0</td>\n",
       "    </tr>\n",
       "    <tr>\n",
       "      <th>3</th>\n",
       "      <td>11.42</td>\n",
       "      <td>20.38</td>\n",
       "      <td>77.58</td>\n",
       "      <td>386.1</td>\n",
       "      <td>0.14250</td>\n",
       "      <td>0.28390</td>\n",
       "      <td>0.2414</td>\n",
       "      <td>0.10520</td>\n",
       "      <td>0.2597</td>\n",
       "      <td>0.09744</td>\n",
       "      <td>...</td>\n",
       "      <td>26.50</td>\n",
       "      <td>98.87</td>\n",
       "      <td>567.7</td>\n",
       "      <td>0.2098</td>\n",
       "      <td>0.8663</td>\n",
       "      <td>0.6869</td>\n",
       "      <td>0.2575</td>\n",
       "      <td>0.6638</td>\n",
       "      <td>0.17300</td>\n",
       "      <td>0</td>\n",
       "    </tr>\n",
       "    <tr>\n",
       "      <th>4</th>\n",
       "      <td>20.29</td>\n",
       "      <td>14.34</td>\n",
       "      <td>135.10</td>\n",
       "      <td>1297.0</td>\n",
       "      <td>0.10030</td>\n",
       "      <td>0.13280</td>\n",
       "      <td>0.1980</td>\n",
       "      <td>0.10430</td>\n",
       "      <td>0.1809</td>\n",
       "      <td>0.05883</td>\n",
       "      <td>...</td>\n",
       "      <td>16.67</td>\n",
       "      <td>152.20</td>\n",
       "      <td>1575.0</td>\n",
       "      <td>0.1374</td>\n",
       "      <td>0.2050</td>\n",
       "      <td>0.4000</td>\n",
       "      <td>0.1625</td>\n",
       "      <td>0.2364</td>\n",
       "      <td>0.07678</td>\n",
       "      <td>0</td>\n",
       "    </tr>\n",
       "  </tbody>\n",
       "</table>\n",
       "<p>5 rows × 31 columns</p>\n",
       "</div>"
      ],
      "text/plain": [
       "   mean radius  mean texture  mean perimeter  mean area  mean smoothness  \\\n",
       "0        17.99         10.38          122.80     1001.0          0.11840   \n",
       "1        20.57         17.77          132.90     1326.0          0.08474   \n",
       "2        19.69         21.25          130.00     1203.0          0.10960   \n",
       "3        11.42         20.38           77.58      386.1          0.14250   \n",
       "4        20.29         14.34          135.10     1297.0          0.10030   \n",
       "\n",
       "   mean compactness  mean concavity  mean concave points  mean symmetry  \\\n",
       "0           0.27760          0.3001              0.14710         0.2419   \n",
       "1           0.07864          0.0869              0.07017         0.1812   \n",
       "2           0.15990          0.1974              0.12790         0.2069   \n",
       "3           0.28390          0.2414              0.10520         0.2597   \n",
       "4           0.13280          0.1980              0.10430         0.1809   \n",
       "\n",
       "   mean fractal dimension  ...  worst texture  worst perimeter  worst area  \\\n",
       "0                 0.07871  ...          17.33           184.60      2019.0   \n",
       "1                 0.05667  ...          23.41           158.80      1956.0   \n",
       "2                 0.05999  ...          25.53           152.50      1709.0   \n",
       "3                 0.09744  ...          26.50            98.87       567.7   \n",
       "4                 0.05883  ...          16.67           152.20      1575.0   \n",
       "\n",
       "   worst smoothness  worst compactness  worst concavity  worst concave points  \\\n",
       "0            0.1622             0.6656           0.7119                0.2654   \n",
       "1            0.1238             0.1866           0.2416                0.1860   \n",
       "2            0.1444             0.4245           0.4504                0.2430   \n",
       "3            0.2098             0.8663           0.6869                0.2575   \n",
       "4            0.1374             0.2050           0.4000                0.1625   \n",
       "\n",
       "   worst symmetry  worst fractal dimension  diagnosis  \n",
       "0          0.4601                  0.11890          0  \n",
       "1          0.2750                  0.08902          0  \n",
       "2          0.3613                  0.08758          0  \n",
       "3          0.6638                  0.17300          0  \n",
       "4          0.2364                  0.07678          0  \n",
       "\n",
       "[5 rows x 31 columns]"
      ]
     },
     "execution_count": 38,
     "metadata": {},
     "output_type": "execute_result"
    }
   ],
   "source": [
    "df.head()"
   ]
  },
  {
   "cell_type": "code",
   "execution_count": 39,
   "id": "37bedf39",
   "metadata": {},
   "outputs": [
    {
     "data": {
      "text/plain": [
       "array([[ 1.09706398, -2.07333501,  1.26993369, ...,  2.75062224,\n",
       "         1.93701461, -1.29767572],\n",
       "       [ 1.82982061, -0.35363241,  1.68595471, ..., -0.24388967,\n",
       "         0.28118999, -1.29767572],\n",
       "       [ 1.57988811,  0.45618695,  1.56650313, ...,  1.152255  ,\n",
       "         0.20139121, -1.29767572],\n",
       "       ...,\n",
       "       [ 0.70228425,  2.0455738 ,  0.67267578, ..., -1.10454895,\n",
       "        -0.31840916, -1.29767572],\n",
       "       [ 1.83834103,  2.33645719,  1.98252415, ...,  1.91908301,\n",
       "         2.21963528, -1.29767572],\n",
       "       [-1.80840125,  1.22179204, -1.81438851, ..., -0.04813821,\n",
       "        -0.75120669,  0.77060855]])"
      ]
     },
     "execution_count": 39,
     "metadata": {},
     "output_type": "execute_result"
    }
   ],
   "source": [
    "# Feature Extraction PCA\n",
    "\n",
    "# Standardization\n",
    "\n",
    "from sklearn.preprocessing import StandardScaler\n",
    "scaler = StandardScaler()\n",
    "scaler.fit(df)\n",
    "\n",
    "scaled_data = scaler.transform(df)\n",
    "scaled_data"
   ]
  },
  {
   "cell_type": "code",
   "execution_count": 40,
   "id": "5601d1e2",
   "metadata": {},
   "outputs": [],
   "source": [
    "# Applying PCA\n",
    "\n",
    "from sklearn.decomposition import PCA\n",
    "pca = PCA(n_components = 2)"
   ]
  },
  {
   "cell_type": "code",
   "execution_count": 41,
   "id": "efa712a8",
   "metadata": {},
   "outputs": [],
   "source": [
    "data_pca = pca.fit_transform(scaled_data)"
   ]
  },
  {
   "cell_type": "code",
   "execution_count": 42,
   "id": "896ac0bb",
   "metadata": {},
   "outputs": [
    {
     "data": {
      "text/plain": [
       "array([[ 9.22577011,  2.11619563],\n",
       "       [ 2.6558016 , -3.78477586],\n",
       "       [ 5.89249212, -1.00557896],\n",
       "       ...,\n",
       "       [ 1.53007727, -1.95887147],\n",
       "       [10.40500789,  1.84907792],\n",
       "       [-5.50486158, -0.76634841]])"
      ]
     },
     "execution_count": 42,
     "metadata": {},
     "output_type": "execute_result"
    }
   ],
   "source": [
    "data_pca"
   ]
  },
  {
   "cell_type": "code",
   "execution_count": 43,
   "id": "c78847fd",
   "metadata": {},
   "outputs": [
    {
     "data": {
      "text/plain": [
       "array([0.44896035, 0.18472104])"
      ]
     },
     "execution_count": 43,
     "metadata": {},
     "output_type": "execute_result"
    }
   ],
   "source": [
    "pca.explained_variance_ratio_"
   ]
  },
  {
   "cell_type": "code",
   "execution_count": 44,
   "id": "489dcf1e",
   "metadata": {},
   "outputs": [
    {
     "data": {
      "text/plain": [
       "Text(0, 0.5, 'Second PCA')"
      ]
     },
     "execution_count": 44,
     "metadata": {},
     "output_type": "execute_result"
    },
    {
     "data": {
      "image/png": "[encoded data removed]",
      "text/plain": [
       "<Figure size 800x600 with 1 Axes>"
      ]
     },
     "metadata": {},
     "output_type": "display_data"
    }
   ],
   "source": [
    "# Plot the figure\n",
    "\n",
    "plt.figure(figsize=(8,6))\n",
    "plt.scatter(data_pca[:,0],data_pca[:,1],c = cancer_data.target,cmap = 'plasma')\n",
    "plt.xlabel('First PCA')\n",
    "plt.ylabel('Second PCA')"
   ]
  },
  {
   "cell_type": "markdown",
   "id": "eb1ce6b9",
   "metadata": {},
   "source": [
    "#### NOTE:\n",
    "   The PCA explained varience refers to the how much of data is captured on PCA line."
   ]
  },
  {
   "cell_type": "code",
   "execution_count": null,
   "id": "ec861b7e",
   "metadata": {},
   "outputs": [],
   "source": []
  }
 ],
 "metadata": {
  "kernelspec": {
   "display_name": "Python 3 (ipykernel)",
   "language": "python",
   "name": "python3"
  },
  "language_info": {
   "codemirror_mode": {
    "name": "ipython",
    "version": 3
   },
   "file_extension": ".py",
   "mimetype": "text/x-python",
   "name": "python",
   "nbconvert_exporter": "python",
   "pygments_lexer": "ipython3",
   "version": "3.11.5"
  }
 },
 "nbformat": 4,
 "nbformat_minor": 5
}
