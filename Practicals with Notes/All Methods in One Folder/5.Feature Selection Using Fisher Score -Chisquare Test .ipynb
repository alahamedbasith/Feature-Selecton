{
 "cells": [
  {
   "cell_type": "markdown",
   "id": "e26859f6",
   "metadata": {},
   "source": [
    "### Fisher Score -Chisquare Test for Feature Selection"
   ]
  },
  {
   "cell_type": "markdown",
   "id": "e504af06",
   "metadata": {},
   "source": [
    "Compute chi-squared stats between each non-negative features and class.\n",
    "- This score should be used to evaluate categorical variables in classifiation task\n",
    "\n",
    "This score can be used to select n_features features with highest values for the test chi-squared statistic from X, Which must\n",
    "contain only non-negative features such as booleans or frequencies.(Eg. term counts in document classification),relative to the \n",
    "classes.\n",
    "\n",
    "Recall that the chi-square test measures the dependence between stochastic variables,so using this function \"Weeds out\" the \n",
    "features that are the most likely to be independent of class and therefore irrelavent for classification.The chi-square statistic is commonly used for testing relationship between categorical feature.\n",
    "\n",
    "It compares the observed distribution of the different classes of target Y among the different categories of the feature,against the expected distribution of the target classes,regardless of the feature categories."
   ]
  },
  {
   "cell_type": "code",
   "execution_count": 91,
   "id": "20916421",
   "metadata": {},
   "outputs": [
    {
     "data": {
      "text/html": [
       "<div>\n",
       "<style scoped>\n",
       "    .dataframe tbody tr th:only-of-type {\n",
       "        vertical-align: middle;\n",
       "    }\n",
       "\n",
       "    .dataframe tbody tr th {\n",
       "        vertical-align: top;\n",
       "    }\n",
       "\n",
       "    .dataframe thead th {\n",
       "        text-align: right;\n",
       "    }\n",
       "</style>\n",
       "<table border=\"1\" class=\"dataframe\">\n",
       "  <thead>\n",
       "    <tr style=\"text-align: right;\">\n",
       "      <th></th>\n",
       "      <th>PassengerId</th>\n",
       "      <th>Survived</th>\n",
       "      <th>Pclass</th>\n",
       "      <th>Name</th>\n",
       "      <th>Sex</th>\n",
       "      <th>Age</th>\n",
       "      <th>SibSp</th>\n",
       "      <th>Parch</th>\n",
       "      <th>Ticket</th>\n",
       "      <th>Fare</th>\n",
       "      <th>Cabin</th>\n",
       "      <th>Embarked</th>\n",
       "    </tr>\n",
       "  </thead>\n",
       "  <tbody>\n",
       "    <tr>\n",
       "      <th>0</th>\n",
       "      <td>1</td>\n",
       "      <td>0</td>\n",
       "      <td>3</td>\n",
       "      <td>Braund, Mr. Owen Harris</td>\n",
       "      <td>male</td>\n",
       "      <td>22.0</td>\n",
       "      <td>1</td>\n",
       "      <td>0</td>\n",
       "      <td>A/5 21171</td>\n",
       "      <td>7.2500</td>\n",
       "      <td>NaN</td>\n",
       "      <td>S</td>\n",
       "    </tr>\n",
       "    <tr>\n",
       "      <th>1</th>\n",
       "      <td>2</td>\n",
       "      <td>1</td>\n",
       "      <td>1</td>\n",
       "      <td>Cumings, Mrs. John Bradley (Florence Briggs Th...</td>\n",
       "      <td>female</td>\n",
       "      <td>38.0</td>\n",
       "      <td>1</td>\n",
       "      <td>0</td>\n",
       "      <td>PC 17599</td>\n",
       "      <td>71.2833</td>\n",
       "      <td>C85</td>\n",
       "      <td>C</td>\n",
       "    </tr>\n",
       "    <tr>\n",
       "      <th>2</th>\n",
       "      <td>3</td>\n",
       "      <td>1</td>\n",
       "      <td>3</td>\n",
       "      <td>Heikkinen, Miss. Laina</td>\n",
       "      <td>female</td>\n",
       "      <td>26.0</td>\n",
       "      <td>0</td>\n",
       "      <td>0</td>\n",
       "      <td>STON/O2. 3101282</td>\n",
       "      <td>7.9250</td>\n",
       "      <td>NaN</td>\n",
       "      <td>S</td>\n",
       "    </tr>\n",
       "    <tr>\n",
       "      <th>3</th>\n",
       "      <td>4</td>\n",
       "      <td>1</td>\n",
       "      <td>1</td>\n",
       "      <td>Futrelle, Mrs. Jacques Heath (Lily May Peel)</td>\n",
       "      <td>female</td>\n",
       "      <td>35.0</td>\n",
       "      <td>1</td>\n",
       "      <td>0</td>\n",
       "      <td>113803</td>\n",
       "      <td>53.1000</td>\n",
       "      <td>C123</td>\n",
       "      <td>S</td>\n",
       "    </tr>\n",
       "    <tr>\n",
       "      <th>4</th>\n",
       "      <td>5</td>\n",
       "      <td>0</td>\n",
       "      <td>3</td>\n",
       "      <td>Allen, Mr. William Henry</td>\n",
       "      <td>male</td>\n",
       "      <td>35.0</td>\n",
       "      <td>0</td>\n",
       "      <td>0</td>\n",
       "      <td>373450</td>\n",
       "      <td>8.0500</td>\n",
       "      <td>NaN</td>\n",
       "      <td>S</td>\n",
       "    </tr>\n",
       "  </tbody>\n",
       "</table>\n",
       "</div>"
      ],
      "text/plain": [
       "   PassengerId  Survived  Pclass  \\\n",
       "0            1         0       3   \n",
       "1            2         1       1   \n",
       "2            3         1       3   \n",
       "3            4         1       1   \n",
       "4            5         0       3   \n",
       "\n",
       "                                                Name     Sex   Age  SibSp  \\\n",
       "0                            Braund, Mr. Owen Harris    male  22.0      1   \n",
       "1  Cumings, Mrs. John Bradley (Florence Briggs Th...  female  38.0      1   \n",
       "2                             Heikkinen, Miss. Laina  female  26.0      0   \n",
       "3       Futrelle, Mrs. Jacques Heath (Lily May Peel)  female  35.0      1   \n",
       "4                           Allen, Mr. William Henry    male  35.0      0   \n",
       "\n",
       "   Parch            Ticket     Fare Cabin Embarked  \n",
       "0      0         A/5 21171   7.2500   NaN        S  \n",
       "1      0          PC 17599  71.2833   C85        C  \n",
       "2      0  STON/O2. 3101282   7.9250   NaN        S  \n",
       "3      0            113803  53.1000  C123        S  \n",
       "4      0            373450   8.0500   NaN        S  "
      ]
     },
     "execution_count": 91,
     "metadata": {},
     "output_type": "execute_result"
    }
   ],
   "source": [
    "# Import datasets\n",
    "\n",
    "import pandas as pd\n",
    "df = pd.read_csv('D:\\\\Feature Selection\\\\Datasets\\\\Titanic Datasets\\\\train.csv')\n",
    "df.head()"
   ]
  },
  {
   "cell_type": "code",
   "execution_count": 92,
   "id": "e52811dc",
   "metadata": {},
   "outputs": [
    {
     "name": "stdout",
     "output_type": "stream",
     "text": [
      "<class 'pandas.core.frame.DataFrame'>\n",
      "RangeIndex: 891 entries, 0 to 890\n",
      "Data columns (total 12 columns):\n",
      " #   Column       Non-Null Count  Dtype  \n",
      "---  ------       --------------  -----  \n",
      " 0   PassengerId  891 non-null    int64  \n",
      " 1   Survived     891 non-null    int64  \n",
      " 2   Pclass       891 non-null    int64  \n",
      " 3   Name         891 non-null    object \n",
      " 4   Sex          891 non-null    object \n",
      " 5   Age          714 non-null    float64\n",
      " 6   SibSp        891 non-null    int64  \n",
      " 7   Parch        891 non-null    int64  \n",
      " 8   Ticket       891 non-null    object \n",
      " 9   Fare         891 non-null    float64\n",
      " 10  Cabin        204 non-null    object \n",
      " 11  Embarked     889 non-null    object \n",
      "dtypes: float64(2), int64(5), object(5)\n",
      "memory usage: 83.7+ KB\n"
     ]
    }
   ],
   "source": [
    "df.info()"
   ]
  },
  {
   "cell_type": "code",
   "execution_count": 93,
   "id": "d4e4f074",
   "metadata": {},
   "outputs": [
    {
     "data": {
      "text/html": [
       "<div>\n",
       "<style scoped>\n",
       "    .dataframe tbody tr th:only-of-type {\n",
       "        vertical-align: middle;\n",
       "    }\n",
       "\n",
       "    .dataframe tbody tr th {\n",
       "        vertical-align: top;\n",
       "    }\n",
       "\n",
       "    .dataframe thead th {\n",
       "        text-align: right;\n",
       "    }\n",
       "</style>\n",
       "<table border=\"1\" class=\"dataframe\">\n",
       "  <thead>\n",
       "    <tr style=\"text-align: right;\">\n",
       "      <th></th>\n",
       "      <th>Sex</th>\n",
       "      <th>Embarked</th>\n",
       "      <th>Pclass</th>\n",
       "      <th>Survived</th>\n",
       "    </tr>\n",
       "  </thead>\n",
       "  <tbody>\n",
       "    <tr>\n",
       "      <th>0</th>\n",
       "      <td>male</td>\n",
       "      <td>S</td>\n",
       "      <td>3</td>\n",
       "      <td>0</td>\n",
       "    </tr>\n",
       "    <tr>\n",
       "      <th>1</th>\n",
       "      <td>female</td>\n",
       "      <td>C</td>\n",
       "      <td>1</td>\n",
       "      <td>1</td>\n",
       "    </tr>\n",
       "    <tr>\n",
       "      <th>2</th>\n",
       "      <td>female</td>\n",
       "      <td>S</td>\n",
       "      <td>3</td>\n",
       "      <td>1</td>\n",
       "    </tr>\n",
       "    <tr>\n",
       "      <th>3</th>\n",
       "      <td>female</td>\n",
       "      <td>S</td>\n",
       "      <td>1</td>\n",
       "      <td>1</td>\n",
       "    </tr>\n",
       "    <tr>\n",
       "      <th>4</th>\n",
       "      <td>male</td>\n",
       "      <td>S</td>\n",
       "      <td>3</td>\n",
       "      <td>0</td>\n",
       "    </tr>\n",
       "  </tbody>\n",
       "</table>\n",
       "</div>"
      ],
      "text/plain": [
       "      Sex Embarked  Pclass  Survived\n",
       "0    male        S       3         0\n",
       "1  female        C       1         1\n",
       "2  female        S       3         1\n",
       "3  female        S       1         1\n",
       "4    male        S       3         0"
      ]
     },
     "execution_count": 93,
     "metadata": {},
     "output_type": "execute_result"
    }
   ],
   "source": [
    "# Select Catagorical feature\n",
    "## ['Sex','Embarked','Name','Pclass','Survived']\n",
    "\n",
    "# Avoid 'Name' feature because we have domain knowlegdge idea names are unique and internally no relationship to dependent feature\n",
    "\n",
    "df = df[['Sex','Embarked','Pclass','Survived']]\n",
    "df.head()"
   ]
  },
  {
   "cell_type": "markdown",
   "id": "a95c5da1",
   "metadata": {},
   "source": [
    "### Remember before applying chi-square we need to must apply label encoding for the categorical feature"
   ]
  },
  {
   "cell_type": "code",
   "execution_count": 94,
   "id": "0bb51449",
   "metadata": {},
   "outputs": [],
   "source": [
    "# Lets perform label encoding for 'Sex' feature\n",
    "\n",
    "import numpy as np\n",
    "df['Sex'] = np.where(df['Sex']=='male',1,0)\n",
    "\n",
    "\n",
    "# Lets perform label encoding for 'Embarked' feature\n",
    "\n",
    "ordinal_label = {k:i for i,k in enumerate(df['Embarked'].unique(),0)}\n",
    "df['Embarked'] = df['Embarked'].map(ordinal_label)\n"
   ]
  },
  {
   "cell_type": "code",
   "execution_count": 95,
   "id": "e3de51fa",
   "metadata": {},
   "outputs": [
    {
     "data": {
      "text/html": [
       "<div>\n",
       "<style scoped>\n",
       "    .dataframe tbody tr th:only-of-type {\n",
       "        vertical-align: middle;\n",
       "    }\n",
       "\n",
       "    .dataframe tbody tr th {\n",
       "        vertical-align: top;\n",
       "    }\n",
       "\n",
       "    .dataframe thead th {\n",
       "        text-align: right;\n",
       "    }\n",
       "</style>\n",
       "<table border=\"1\" class=\"dataframe\">\n",
       "  <thead>\n",
       "    <tr style=\"text-align: right;\">\n",
       "      <th></th>\n",
       "      <th>Sex</th>\n",
       "      <th>Embarked</th>\n",
       "      <th>Pclass</th>\n",
       "      <th>Survived</th>\n",
       "    </tr>\n",
       "  </thead>\n",
       "  <tbody>\n",
       "    <tr>\n",
       "      <th>0</th>\n",
       "      <td>1</td>\n",
       "      <td>0</td>\n",
       "      <td>3</td>\n",
       "      <td>0</td>\n",
       "    </tr>\n",
       "    <tr>\n",
       "      <th>1</th>\n",
       "      <td>0</td>\n",
       "      <td>1</td>\n",
       "      <td>1</td>\n",
       "      <td>1</td>\n",
       "    </tr>\n",
       "    <tr>\n",
       "      <th>2</th>\n",
       "      <td>0</td>\n",
       "      <td>0</td>\n",
       "      <td>3</td>\n",
       "      <td>1</td>\n",
       "    </tr>\n",
       "    <tr>\n",
       "      <th>3</th>\n",
       "      <td>0</td>\n",
       "      <td>0</td>\n",
       "      <td>1</td>\n",
       "      <td>1</td>\n",
       "    </tr>\n",
       "    <tr>\n",
       "      <th>4</th>\n",
       "      <td>1</td>\n",
       "      <td>0</td>\n",
       "      <td>3</td>\n",
       "      <td>0</td>\n",
       "    </tr>\n",
       "  </tbody>\n",
       "</table>\n",
       "</div>"
      ],
      "text/plain": [
       "   Sex  Embarked  Pclass  Survived\n",
       "0    1         0       3         0\n",
       "1    0         1       1         1\n",
       "2    0         0       3         1\n",
       "3    0         0       1         1\n",
       "4    1         0       3         0"
      ]
     },
     "execution_count": 95,
     "metadata": {},
     "output_type": "execute_result"
    }
   ],
   "source": [
    "df.head()"
   ]
  },
  {
   "cell_type": "code",
   "execution_count": 96,
   "id": "07f3154b",
   "metadata": {},
   "outputs": [],
   "source": [
    "# Then perform train_test_split\n",
    "\n",
    "from sklearn.model_selection import train_test_split\n",
    "X_train,X_test,y_train,y_test = train_test_split(df[['Sex','Embarked','Pclass']],df['Survived'],test_size = 0.3,random_state = 32)"
   ]
  },
  {
   "cell_type": "code",
   "execution_count": 97,
   "id": "47b00015",
   "metadata": {},
   "outputs": [
    {
     "data": {
      "text/plain": [
       "Sex         0\n",
       "Embarked    0\n",
       "Pclass      0\n",
       "dtype: int64"
      ]
     },
     "execution_count": 97,
     "metadata": {},
     "output_type": "execute_result"
    }
   ],
   "source": [
    "X_train.isnull().sum()"
   ]
  },
  {
   "cell_type": "code",
   "execution_count": 98,
   "id": "0c504f3a",
   "metadata": {},
   "outputs": [
    {
     "data": {
      "text/plain": [
       "446    1\n",
       "435    1\n",
       "602    0\n",
       "322    1\n",
       "517    0\n",
       "      ..\n",
       "403    0\n",
       "88     1\n",
       "310    1\n",
       "555    0\n",
       "727    1\n",
       "Name: Survived, Length: 623, dtype: int64"
      ]
     },
     "execution_count": 98,
     "metadata": {},
     "output_type": "execute_result"
    }
   ],
   "source": [
    "y_train"
   ]
  },
  {
   "cell_type": "markdown",
   "id": "e823dd97",
   "metadata": {},
   "source": [
    "### To Perform Chi-Square test\n",
    "\n",
    "chi-square returns the 2 values.One is F_score and another one is P_value"
   ]
  },
  {
   "cell_type": "code",
   "execution_count": 99,
   "id": "b9357c5a",
   "metadata": {},
   "outputs": [],
   "source": [
    "# Perform chi-square test\n",
    "\n",
    "from sklearn.feature_selection import chi2\n",
    "f_p_values = chi2(X_train,y_train)"
   ]
  },
  {
   "cell_type": "code",
   "execution_count": 100,
   "id": "fa36d43a",
   "metadata": {},
   "outputs": [
    {
     "data": {
      "text/plain": [
       "(array([64.34158945, 15.18084156, 22.00013369]),\n",
       " array([1.04614006e-15, 9.76895397e-05, 2.72631475e-06]))"
      ]
     },
     "execution_count": 100,
     "metadata": {},
     "output_type": "execute_result"
    }
   ],
   "source": [
    "f_p_values"
   ]
  },
  {
   "cell_type": "markdown",
   "id": "07f4680f",
   "metadata": {},
   "source": [
    "(array([64.34158945, 15.18084156, 22.00013369]),   --- This indicates F-Score\n",
    "\n",
    " array([1.04614006e-15, 9.76895397e-05, 2.72631475e-06])) --- This indicates P-Value\n",
    " \n",
    " The More F-Score value considered as best for feature selection\n",
    " \n",
    " The Less P-Value considered as best for feature selection"
   ]
  },
  {
   "cell_type": "code",
   "execution_count": 105,
   "id": "81086aec",
   "metadata": {},
   "outputs": [
    {
     "data": {
      "text/plain": [
       "Sex         1.046140e-15\n",
       "Pclass      2.726315e-06\n",
       "Embarked    9.768954e-05\n",
       "dtype: float64"
      ]
     },
     "execution_count": 105,
     "metadata": {},
     "output_type": "execute_result"
    }
   ],
   "source": [
    "# Sort the values\n",
    "p_values = pd.Series(f_p_values[1])\n",
    "p_values.index = X_train.columns\n",
    "\n",
    "p_values.sort_index(ascending = False)"
   ]
  },
  {
   "cell_type": "markdown",
   "id": "bccd44f1",
   "metadata": {},
   "source": [
    "### Why sort_index is used instead of sort_values?\n",
    "\n",
    "p_values is a Series with column names as the index and p-values as the values.\n",
    "\n",
    "   - When you want to sort this Series by the column names (index) in descending order, you should use sort_index(ascending=False). This will reorder the Series by the index (column names), placing the highest value p-values first and the lowest value p-values last.\n",
    "\n",
    "- If you were to use sort_values(), it would sort the Series by the p-values (values) in ascending or descending order, not the column names, which may not be what you want in this context.\n",
    "\n",
    "So, in this case, you're sorting the p-values by the corresponding column names, and sort_index is the appropriate method to achieve that."
   ]
  },
  {
   "cell_type": "markdown",
   "id": "a2025411",
   "metadata": {},
   "source": [
    "### Observation\n",
    "\n",
    "Sex column is the most important column when compare to the output feature Survived."
   ]
  },
  {
   "cell_type": "markdown",
   "id": "6f90eb98",
   "metadata": {},
   "source": [
    "Chi Square is also known as Fisher Score."
   ]
  }
 ],
 "metadata": {
  "kernelspec": {
   "display_name": "Python 3 (ipykernel)",
   "language": "python",
   "name": "python3"
  },
  "language_info": {
   "codemirror_mode": {
    "name": "ipython",
    "version": 3
   },
   "file_extension": ".py",
   "mimetype": "text/x-python",
   "name": "python",
   "nbconvert_exporter": "python",
   "pygments_lexer": "ipython3",
   "version": "3.11.5"
  }
 },
 "nbformat": 4,
 "nbformat_minor": 5
}
