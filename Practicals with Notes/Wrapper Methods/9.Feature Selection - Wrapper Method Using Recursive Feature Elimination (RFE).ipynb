{
 "cells": [
  {
   "cell_type": "markdown",
   "id": "5ccfe186",
   "metadata": {},
   "source": [
    "## Recursive Feature Elimination (RFE)"
   ]
  },
  {
   "cell_type": "markdown",
   "id": "581102a0",
   "metadata": {},
   "source": [
    "Recursive Feature Elimination (RFE) is a feature selection technique used to identify the most important features for a machine learning model. It works by iteratively removing the least important features from the dataset until a desired number of features to select is reached. Here's a more detailed explanation of how RFE works:\n",
    "\n",
    "1. **Initialization**:\n",
    "   - The process begins by initializing a machine learning model, often a classifier or regressor, which serves as the estimator for feature ranking. In your code, an SVM (Support Vector Machine) classifier with a linear kernel is used.\n",
    "\n",
    "2. **Ranking Features**:\n",
    "   - The RFE algorithm starts with all features in the dataset. The estimator (SVM in this case) is trained on the dataset with all features, and feature importance or weights are calculated. These feature importance scores are used to rank the features.\n",
    "\n",
    "3. **Feature Elimination**:\n",
    "   - The feature with the lowest importance score is identified and eliminated from the dataset. This means that the feature with the lowest rank is removed. In your code, features with a rank of 0 are eliminated.\n",
    "\n",
    "4. **Iteration**:\n",
    "   - The process is repeated iteratively. In each iteration, the model is retrained on the reduced dataset (with one less feature), and feature importance scores are re-evaluated. The feature with the lowest importance score in the current dataset is removed in each iteration.\n",
    "\n",
    "5. **Stopping Criterion**:\n",
    "   - The iterations continue until the desired number of features to select is reached. In your code, `n_features_to_select` is set to 2, meaning that the algorithm will stop when two features are left.\n",
    "\n",
    "6. **Result**:\n",
    "   - At the end of the process, the algorithm provides two pieces of information:\n",
    "     - **Selected Features**: These are the features that have not been eliminated and are considered the most important for the model.\n",
    "     - **Feature Rankings**: Each feature is assigned a rank (1 for selected and 0 for eliminated), indicating its importance in the model.\n",
    "\n",
    "RFE is a backward feature selection technique, meaning it starts with all features and progressively removes the least important ones. This process is based on the idea that removing irrelevant or redundant features can lead to a simpler and more interpretable model while preserving or even improving predictive performance.\n",
    "\n",
    "The selected features can be used to train a final model with a reduced feature set, which may result in better model generalization and improved efficiency, especially when dealing with high-dimensional datasets."
   ]
  },
  {
   "cell_type": "code",
   "execution_count": 1,
   "id": "0f42e275",
   "metadata": {},
   "outputs": [],
   "source": [
    "# Import necessary libraries\n",
    "# In this example we show the SVC model \n",
    "\n",
    "from sklearn.feature_selection import RFE\n",
    "from sklearn.svm import SVC\n",
    "from sklearn.datasets import load_iris"
   ]
  },
  {
   "cell_type": "code",
   "execution_count": 2,
   "id": "1b1fdc62",
   "metadata": {},
   "outputs": [],
   "source": [
    "# Load a sample dataset (Iris dataset)\n",
    "data = load_iris()\n",
    "# Independent and dependent feature\n",
    "X = data.data\n",
    "y = data.target"
   ]
  },
  {
   "cell_type": "code",
   "execution_count": 3,
   "id": "5b9cb8b9",
   "metadata": {},
   "outputs": [],
   "source": [
    "# Create an SVM classifier as the initial model\n",
    "model = SVC(kernel=\"linear\")"
   ]
  },
  {
   "cell_type": "code",
   "execution_count": 28,
   "id": "3aee5385",
   "metadata": {},
   "outputs": [],
   "source": [
    "# Create an RFE model with the SVM classifier and specify the number of features to select\n",
    "n_features_to_select = 2\n",
    "rfe = RFE(estimator=model, n_features_to_select=n_features_to_select)"
   ]
  },
  {
   "cell_type": "code",
   "execution_count": 29,
   "id": "1ee5ea12",
   "metadata": {},
   "outputs": [
    {
     "data": {
      "text/html": [
       "<style>#sk-container-id-5 {color: black;}#sk-container-id-5 pre{padding: 0;}#sk-container-id-5 div.sk-toggleable {background-color: white;}#sk-container-id-5 label.sk-toggleable__label {cursor: pointer;display: block;width: 100%;margin-bottom: 0;padding: 0.3em;box-sizing: border-box;text-align: center;}#sk-container-id-5 label.sk-toggleable__label-arrow:before {content: \"▸\";float: left;margin-right: 0.25em;color: #696969;}#sk-container-id-5 label.sk-toggleable__label-arrow:hover:before {color: black;}#sk-container-id-5 div.sk-estimator:hover label.sk-toggleable__label-arrow:before {color: black;}#sk-container-id-5 div.sk-toggleable__content {max-height: 0;max-width: 0;overflow: hidden;text-align: left;background-color: #f0f8ff;}#sk-container-id-5 div.sk-toggleable__content pre {margin: 0.2em;color: black;border-radius: 0.25em;background-color: #f0f8ff;}#sk-container-id-5 input.sk-toggleable__control:checked~div.sk-toggleable__content {max-height: 200px;max-width: 100%;overflow: auto;}#sk-container-id-5 input.sk-toggleable__control:checked~label.sk-toggleable__label-arrow:before {content: \"▾\";}#sk-container-id-5 div.sk-estimator input.sk-toggleable__control:checked~label.sk-toggleable__label {background-color: #d4ebff;}#sk-container-id-5 div.sk-label input.sk-toggleable__control:checked~label.sk-toggleable__label {background-color: #d4ebff;}#sk-container-id-5 input.sk-hidden--visually {border: 0;clip: rect(1px 1px 1px 1px);clip: rect(1px, 1px, 1px, 1px);height: 1px;margin: -1px;overflow: hidden;padding: 0;position: absolute;width: 1px;}#sk-container-id-5 div.sk-estimator {font-family: monospace;background-color: #f0f8ff;border: 1px dotted black;border-radius: 0.25em;box-sizing: border-box;margin-bottom: 0.5em;}#sk-container-id-5 div.sk-estimator:hover {background-color: #d4ebff;}#sk-container-id-5 div.sk-parallel-item::after {content: \"\";width: 100%;border-bottom: 1px solid gray;flex-grow: 1;}#sk-container-id-5 div.sk-label:hover label.sk-toggleable__label {background-color: #d4ebff;}#sk-container-id-5 div.sk-serial::before {content: \"\";position: absolute;border-left: 1px solid gray;box-sizing: border-box;top: 0;bottom: 0;left: 50%;z-index: 0;}#sk-container-id-5 div.sk-serial {display: flex;flex-direction: column;align-items: center;background-color: white;padding-right: 0.2em;padding-left: 0.2em;position: relative;}#sk-container-id-5 div.sk-item {position: relative;z-index: 1;}#sk-container-id-5 div.sk-parallel {display: flex;align-items: stretch;justify-content: center;background-color: white;position: relative;}#sk-container-id-5 div.sk-item::before, #sk-container-id-5 div.sk-parallel-item::before {content: \"\";position: absolute;border-left: 1px solid gray;box-sizing: border-box;top: 0;bottom: 0;left: 50%;z-index: -1;}#sk-container-id-5 div.sk-parallel-item {display: flex;flex-direction: column;z-index: 1;position: relative;background-color: white;}#sk-container-id-5 div.sk-parallel-item:first-child::after {align-self: flex-end;width: 50%;}#sk-container-id-5 div.sk-parallel-item:last-child::after {align-self: flex-start;width: 50%;}#sk-container-id-5 div.sk-parallel-item:only-child::after {width: 0;}#sk-container-id-5 div.sk-dashed-wrapped {border: 1px dashed gray;margin: 0 0.4em 0.5em 0.4em;box-sizing: border-box;padding-bottom: 0.4em;background-color: white;}#sk-container-id-5 div.sk-label label {font-family: monospace;font-weight: bold;display: inline-block;line-height: 1.2em;}#sk-container-id-5 div.sk-label-container {text-align: center;}#sk-container-id-5 div.sk-container {/* jupyter's `normalize.less` sets `[hidden] { display: none; }` but bootstrap.min.css set `[hidden] { display: none !important; }` so we also need the `!important` here to be able to override the default hidden behavior on the sphinx rendered scikit-learn.org. See: https://github.com/scikit-learn/scikit-learn/issues/21755 */display: inline-block !important;position: relative;}#sk-container-id-5 div.sk-text-repr-fallback {display: none;}</style><div id=\"sk-container-id-5\" class=\"sk-top-container\"><div class=\"sk-text-repr-fallback\"><pre>RFE(estimator=SVC(kernel=&#x27;linear&#x27;), n_features_to_select=2)</pre><b>In a Jupyter environment, please rerun this cell to show the HTML representation or trust the notebook. <br />On GitHub, the HTML representation is unable to render, please try loading this page with nbviewer.org.</b></div><div class=\"sk-container\" hidden><div class=\"sk-item sk-dashed-wrapped\"><div class=\"sk-label-container\"><div class=\"sk-label sk-toggleable\"><input class=\"sk-toggleable__control sk-hidden--visually\" id=\"sk-estimator-id-13\" type=\"checkbox\" ><label for=\"sk-estimator-id-13\" class=\"sk-toggleable__label sk-toggleable__label-arrow\">RFE</label><div class=\"sk-toggleable__content\"><pre>RFE(estimator=SVC(kernel=&#x27;linear&#x27;), n_features_to_select=2)</pre></div></div></div><div class=\"sk-parallel\"><div class=\"sk-parallel-item\"><div class=\"sk-item\"><div class=\"sk-label-container\"><div class=\"sk-label sk-toggleable\"><input class=\"sk-toggleable__control sk-hidden--visually\" id=\"sk-estimator-id-14\" type=\"checkbox\" ><label for=\"sk-estimator-id-14\" class=\"sk-toggleable__label sk-toggleable__label-arrow\">estimator: SVC</label><div class=\"sk-toggleable__content\"><pre>SVC(kernel=&#x27;linear&#x27;)</pre></div></div></div><div class=\"sk-serial\"><div class=\"sk-item\"><div class=\"sk-estimator sk-toggleable\"><input class=\"sk-toggleable__control sk-hidden--visually\" id=\"sk-estimator-id-15\" type=\"checkbox\" ><label for=\"sk-estimator-id-15\" class=\"sk-toggleable__label sk-toggleable__label-arrow\">SVC</label><div class=\"sk-toggleable__content\"><pre>SVC(kernel=&#x27;linear&#x27;)</pre></div></div></div></div></div></div></div></div></div></div>"
      ],
      "text/plain": [
       "RFE(estimator=SVC(kernel='linear'), n_features_to_select=2)"
      ]
     },
     "execution_count": 29,
     "metadata": {},
     "output_type": "execute_result"
    }
   ],
   "source": [
    "# Fit the RFE model to the data\n",
    "rfe.fit(X, y)"
   ]
  },
  {
   "cell_type": "code",
   "execution_count": 30,
   "id": "113d4da4",
   "metadata": {},
   "outputs": [
    {
     "data": {
      "text/plain": [
       "array([3, 2, 1, 1])"
      ]
     },
     "execution_count": 30,
     "metadata": {},
     "output_type": "execute_result"
    }
   ],
   "source": [
    "# Get the ranking of features (1 means selected, 0 means not selected)\n",
    "feature_ranking = rfe.ranking_\n",
    "feature_ranking"
   ]
  },
  {
   "cell_type": "code",
   "execution_count": 31,
   "id": "1eee25cf",
   "metadata": {},
   "outputs": [
    {
     "data": {
      "text/plain": [
       "array([False, False,  True,  True])"
      ]
     },
     "execution_count": 31,
     "metadata": {},
     "output_type": "execute_result"
    }
   ],
   "source": [
    "# Get the support for selected features (True for selected features, False for non-selected)\n",
    "selected_features = rfe.support_\n",
    "selected_features"
   ]
  },
  {
   "cell_type": "code",
   "execution_count": 32,
   "id": "88385a69",
   "metadata": {},
   "outputs": [
    {
     "name": "stdout",
     "output_type": "stream",
     "text": [
      "Selected Features:\n",
      "petal length (cm) (Rank: 1)\n",
      "petal width (cm) (Rank: 1)\n"
     ]
    }
   ],
   "source": [
    "# Print the results\n",
    "print(\"Selected Features:\")\n",
    "for i, feature in enumerate(data.feature_names):\n",
    "    if selected_features[i]:\n",
    "        print(f\"{feature} (Rank: {feature_ranking[i]})\")"
   ]
  },
  {
   "cell_type": "code",
   "execution_count": null,
   "id": "baa32a9f",
   "metadata": {},
   "outputs": [],
   "source": []
  },
  {
   "cell_type": "code",
   "execution_count": null,
   "id": "108e6115",
   "metadata": {},
   "outputs": [],
   "source": []
  }
 ],
 "metadata": {
  "kernelspec": {
   "display_name": "Python 3 (ipykernel)",
   "language": "python",
   "name": "python3"
  },
  "language_info": {
   "codemirror_mode": {
    "name": "ipython",
    "version": 3
   },
   "file_extension": ".py",
   "mimetype": "text/x-python",
   "name": "python",
   "nbconvert_exporter": "python",
   "pygments_lexer": "ipython3",
   "version": "3.11.5"
  }
 },
 "nbformat": 4,
 "nbformat_minor": 5
}
